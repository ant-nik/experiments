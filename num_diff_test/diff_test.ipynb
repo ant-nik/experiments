{
  "nbformat": 4,
  "nbformat_minor": 0,
  "metadata": {
    "colab": {
      "provenance": [],
      "authorship_tag": "ABX9TyMBHLe776WgB6Vpube3Y1VR"
    },
    "kernelspec": {
      "name": "python3",
      "display_name": "Python 3"
    },
    "language_info": {
      "name": "python"
    }
  },
  "cells": [
    {
      "cell_type": "code",
      "execution_count": null,
      "metadata": {
        "id": "Sl0cjc9IwSeQ"
      },
      "outputs": [],
      "source": [
        "import scipy.integrate as mdl\n",
        "import numpy\n",
        "import plotly.express as plte\n",
        "import pandas"
      ]
    },
    {
      "cell_type": "code",
      "source": [
        "N = 101\n",
        "t = numpy.linspace(0.0, 5.0, N)\n",
        "dt = t[1] - t[0]\n",
        "\n",
        "\n",
        "def simple_test(x, t):\n",
        "    return -x\n",
        "\n",
        "\n",
        "y = mdl.odeint(simple_test, y0=[3.], t=t)"
      ],
      "metadata": {
        "id": "ObxP5Lkfx0fW"
      },
      "execution_count": null,
      "outputs": []
    },
    {
      "cell_type": "code",
      "source": [
        "data = pandas.DataFrame({'x': t, 'y': y.reshape((N))})\n",
        "data['dydt_1ord'] = data['y'].diff()/dt\n",
        "data['dydt_real'] = simple_test(x=data['y'], t=[])\n",
        "data['y_noise'] = data['y'] + numpy.random.randn(N)/100\n",
        "data['dydt_1ord_noise'] = data['y_noise'].diff()/dt\n",
        "data = data.dropna()\n",
        "data"
      ],
      "metadata": {
        "id": "CxzV6ua-yujd"
      },
      "execution_count": null,
      "outputs": []
    },
    {
      "cell_type": "code",
      "source": [
        "plte.line(data_frame=data, x='x', y='y')"
      ],
      "metadata": {
        "id": "hfBrhaAy9ER2"
      },
      "execution_count": null,
      "outputs": []
    },
    {
      "cell_type": "code",
      "source": [
        "plte.scatter(data_frame=data, x='y', y=['dydt_1ord', 'dydt_real'])"
      ],
      "metadata": {
        "id": "6LTaX2-y9AzS"
      },
      "execution_count": null,
      "outputs": []
    },
    {
      "cell_type": "code",
      "source": [
        "plte.scatter(data_frame=data, x='y_noise', y=['dydt_1ord_noise'])"
      ],
      "metadata": {
        "id": "8IXOqKTV3dP7"
      },
      "execution_count": null,
      "outputs": []
    },
    {
      "cell_type": "code",
      "source": [],
      "metadata": {
        "id": "2kEtz_sBDUao"
      },
      "execution_count": null,
      "outputs": []
    },
    {
      "cell_type": "code",
      "source": [],
      "metadata": {
        "id": "HAWesXxR-ugb"
      },
      "execution_count": null,
      "outputs": []
    }
  ]
}