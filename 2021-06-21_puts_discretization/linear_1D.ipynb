{
  "nbformat": 4,
  "nbformat_minor": 0,
  "metadata": {
    "colab": {
      "name": "linear-1D.ipynb",
      "provenance": [],
      "authorship_tag": "ABX9TyNrljWkhd7zYIylz8npqKTU",
      "include_colab_link": true
    },
    "kernelspec": {
      "name": "python3",
      "display_name": "Python 3"
    },
    "language_info": {
      "name": "python"
    }
  },
  "cells": [
    {
      "cell_type": "markdown",
      "metadata": {
        "id": "view-in-github",
        "colab_type": "text"
      },
      "source": [
        "<a href=\"https://colab.research.google.com/github/ant-nik/experiments/blob/main/2021-06-21_puts_discretization/linear_1D.ipynb\" target=\"_parent\"><img src=\"https://colab.research.google.com/assets/colab-badge.svg\" alt=\"Open In Colab\"/></a>"
      ]
    },
    {
      "cell_type": "markdown",
      "metadata": {
        "id": "gxXQvdm4T3hx"
      },
      "source": [
        "# Estimation of scan cycle constant for linear model "
      ]
    },
    {
      "cell_type": "markdown",
      "metadata": {
        "id": "48OMTXEnahWh"
      },
      "source": [
        "Prepares environment for creating and running a model."
      ]
    },
    {
      "cell_type": "code",
      "metadata": {
        "colab": {
          "base_uri": "https://localhost:8080/"
        },
        "id": "ySb8BCDqTCea",
        "outputId": "4f09fcd7-0904-4828-fd6c-f9dfc13bcb8b"
      },
      "source": [
        "! rm -R experiments\n",
        "! git clone -b main https://github.com/ant-nik/experiments.git\n",
        "% cd experiments/"
      ],
      "execution_count": 2,
      "outputs": [
        {
          "output_type": "stream",
          "text": [
            "rm: cannot remove 'experiments': No such file or directory\n",
            "Cloning into 'experiments'...\n",
            "remote: Enumerating objects: 25, done.\u001b[K\n",
            "remote: Counting objects: 100% (25/25), done.\u001b[K\n",
            "remote: Compressing objects: 100% (16/16), done.\u001b[K\n",
            "remote: Total 25 (delta 4), reused 11 (delta 2), pack-reused 0\u001b[K\n",
            "Unpacking objects: 100% (25/25), done.\n",
            "/content/experiments\n"
          ],
          "name": "stdout"
        }
      ]
    },
    {
      "cell_type": "code",
      "metadata": {
        "id": "eWyDF-JkZdwV"
      },
      "source": [
        "import explib.dynamic.plc as plc"
      ],
      "execution_count": 3,
      "outputs": []
    },
    {
      "cell_type": "markdown",
      "metadata": {
        "id": "5Kj1h7Qxaozp"
      },
      "source": [
        "Defines linear equations and discrete controller to imitate scan cycle impact."
      ]
    },
    {
      "cell_type": "code",
      "metadata": {
        "id": "ZWBE8oexaBvF"
      },
      "source": [
        "def linear_model(control):\n",
        "    def fix_control(x, t):\n",
        "        return [x[0] + control, 0.0]\n",
        "    return fix_control"
      ],
      "execution_count": 4,
      "outputs": []
    },
    {
      "cell_type": "code",
      "metadata": {
        "id": "MggwKl9lafuT"
      },
      "source": [
        "class LinearControl(plc.PLC):\n",
        "    def __init__(self, goal, gain, dt): # функция инициализации параметров\n",
        "        super(LinearControl,self).__init__(gain,step=dt)\n",
        "\n",
        "    def control(self, x, t):\n",
        "        return -2*x[0]"
      ],
      "execution_count": 5,
      "outputs": []
    },
    {
      "cell_type": "markdown",
      "metadata": {
        "id": "rRq97ujjbjcP"
      },
      "source": [
        "Calcluates process timeseries."
      ]
    },
    {
      "cell_type": "code",
      "metadata": {
        "id": "KYFqXyHpbogn"
      },
      "source": [
        "linear_controller = LinearControl(goal=0.0, gain=1.0, dt=0.1)\n",
        "result = plc.calculate(func=linear_model, x0=[0.1, 0.0], step=0.001, time=10.0, plc=linear_controller)"
      ],
      "execution_count": 10,
      "outputs": []
    },
    {
      "cell_type": "code",
      "metadata": {
        "colab": {
          "base_uri": "https://localhost:8080/",
          "height": 301
        },
        "id": "ex3oOGTid904",
        "outputId": "a622697c-89bb-466d-9ac6-8b92246c7d1d"
      },
      "source": [
        "import matplotlib.pyplot as plt \n",
        "print(result.keys())\n",
        "plt.plot(result['t'], result['x1'])"
      ],
      "execution_count": 11,
      "outputs": [
        {
          "output_type": "stream",
          "text": [
            "dict_keys(['t', 'u', 'x1', 'x2'])\n"
          ],
          "name": "stdout"
        },
        {
          "output_type": "execute_result",
          "data": {
            "text/plain": [
              "[<matplotlib.lines.Line2D at 0x7efd6fdd9050>]"
            ]
          },
          "metadata": {
            "tags": []
          },
          "execution_count": 11
        },
        {
          "output_type": "display_data",
          "data": {
            "image/png": "[encoded data removed]",
            "text/plain": [
              "<Figure size 432x288 with 1 Axes>"
            ]
          },
          "metadata": {
            "tags": [],
            "needs_background": "light"
          }
        }
      ]
    }
  ]
}